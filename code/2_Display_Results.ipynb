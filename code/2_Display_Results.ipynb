{
 "cells": [
  {
   "cell_type": "markdown",
   "id": "4851d684-b0b2-47fc-b64a-f0d5f4fb47f5",
   "metadata": {},
   "source": [
    "# Packages and Functions"
   ]
  },
  {
   "cell_type": "code",
   "execution_count": 1,
   "id": "c9ae7ae4-4706-43e3-915d-2a9c9ecbd9a5",
   "metadata": {},
   "outputs": [],
   "source": [
    "import os\n",
    "import importlib\n",
    "import numpy as np\n",
    "import matplotlib.pyplot as plt\n",
    "import seaborn as sns\n",
    "import pandas as pd\n",
    "import pickle\n",
    "import json\n",
    "\n",
    "import lib\n",
    "# lib.algo_template.algo(data)\n",
    "# getattr(getattr(lib, \"algo_template\"), \"algo\")(data)"
   ]
  },
  {
   "cell_type": "markdown",
   "id": "66f22830-8bbb-4cac-b470-a9987c91201a",
   "metadata": {},
   "source": [
    "# Configuration"
   ]
  },
  {
   "cell_type": "code",
   "execution_count": 6,
   "id": "dd6e8acb-8a94-4f4a-9bd6-57709803b903",
   "metadata": {},
   "outputs": [],
   "source": [
    "# set default values for all plotting:\n",
    "plt.rcParams['axes.titlesize']  = 14\n",
    "plt.rcParams['axes.labelsize']  = 14\n",
    "plt.rcParams['xtick.labelsize'] = 14\n",
    "plt.rcParams['ytick.labelsize'] = 14\n",
    "plt.rcParams['legend.fontsize'] = 12\n",
    "plt.rcParams['lines.linewidth'] = 2"
   ]
  },
  {
   "cell_type": "code",
   "execution_count": 7,
   "id": "a80a0cda-bf46-42c1-aeee-2ff3dbaedd35",
   "metadata": {},
   "outputs": [
    {
     "data": {
      "text/plain": [
       "'no_tail_half_end/loos/'"
      ]
     },
     "execution_count": 7,
     "metadata": {},
     "output_type": "execute_result"
    }
   ],
   "source": [
    "cfg = {}\n",
    "\n",
    "cfg['results path trunk 1'] = \"/home/kr/forschung/projects/aggrflex/results/processed_data/\"\n",
    "\n",
    "# cfg['results path trunk 2'] = \"benchmark_host/kr-pc/\"\n",
    "# cfg['results path trunk 2'] = \"testing/kr-nb3/\"\n",
    "# cfg['results path trunk 2'] = \"testing/loos/\"\n",
    "\n",
    "# cfg['results dir list'] = ['algo_no_flex'    , 'algo_exact', \n",
    "#                            'algo_Barot_wo_pc', 'algo_Barot_w_pc']\n",
    "# cfg['results dir list'] = ['various_algos']\n",
    "# cfg['results dir list'] = ['various_algos_part_2']\n",
    "\n",
    "if 1: # no_tail_half_end:\n",
    "    cfg['results path trunk 2'] = \"no_tail_half_end/loos/\"\n",
    "    # cfg['results dir list']     = [f\"various_algos_part_{i}\" for i in range(1,5)]\n",
    "    cfg['results dir list']     = [\"various_algos\"]\n",
    "    \n",
    "if 0: # no_tail_zero_end:\n",
    "    cfg['results path trunk 2'] = \"no_tail_zero_end/loos/\"\n",
    "    cfg['results dir list']     = [\"various_algos\"]\n",
    "\n",
    "if 0: # with_tail_zero_end:\n",
    "    cfg['results path trunk 2'] = \"with_tail_zero_end/loos/\"\n",
    "    cfg['results dir list']     = [\"various_algos\"]\n",
    "\n",
    "# paths for outputs:\n",
    "cfg['figures path'] = \"/home/kr/forschung/projects/aggrflex/results/figures/\"\n",
    "cfg['tables path']  = \"/home/kr/forschung/projects/aggrflex/results/tables/\"\n",
    "\n",
    "cfg['results path trunk 2']"
   ]
  },
  {
   "cell_type": "markdown",
   "id": "09df2429",
   "metadata": {
    "jp-MarkdownHeadingCollapsed": true,
    "tags": []
   },
   "source": [
    "# Delete Results"
   ]
  },
  {
   "cell_type": "code",
   "execution_count": 29,
   "id": "5ce2dd12",
   "metadata": {
    "tags": []
   },
   "outputs": [],
   "source": [
    "cfg['results dir'] = f\"{cfg['results dir list'][0]}/\"\n",
    "cfg['results path'] = cfg['results path trunk 1'] + \\\n",
    "                    cfg['results path trunk 2'] + \\\n",
    "                    cfg['results dir']\n",
    "if 0:\n",
    "    with open(cfg['results path'] + 'cfg.json') as json_file:\n",
    "        cfg = json.load(json_file)\n",
    "    del cfg['algos']['Zonotopes']\n",
    "    with open(cfg['results path'] + 'cfg.json', 'w') as outfile:\n",
    "        json.dump(cfg, outfile, indent=2)\n",
    "if 0:\n",
    "    with open(cfg['results path'] + 'res.pickle', 'rb') as handle:\n",
    "        res = pickle.load(handle)\n",
    "    ind = res['algo'] == 'Zonotopes'\n",
    "    res.drop(res.loc[ind,].index, inplace=True)\n",
    "    with open(cfg['results path'] + 'res.pickle', 'wb') as handle:\n",
    "        pickle.dump(res, handle, protocol=pickle.HIGHEST_PROTOCOL)"
   ]
  },
  {
   "cell_type": "markdown",
   "id": "013cfcbe-654e-49db-9c9c-3d8407809fef",
   "metadata": {},
   "source": [
    "# Import and Merge Results"
   ]
  },
  {
   "cell_type": "code",
   "execution_count": 8,
   "id": "9293755c-0a71-4f5e-8c35-f8f48d1089a1",
   "metadata": {},
   "outputs": [
    {
     "name": "stdout",
     "output_type": "stream",
     "text": [
      "res data frame has shape: (62200, 12).\n",
      "res data frame has algos: ['no flexibility', 'exact', 'Barot wo. pc.', 'Barot w. pc.', 'Homothet Stage 0', 'Outer Battery Homothet', 'Inner Battery Homothet', 'Homothet Projection', 'Union of Homothets Stage 1', 'Zonotopes', 'Zonotopes l1', 'Zonotopes l2', 'Zhen Ellipsoid Inner', 'Barot Ellipsoid Inner'].\n"
     ]
    }
   ],
   "source": [
    "res = pd.DataFrame()\n",
    "cfg_list = []\n",
    "\n",
    "for subdir in cfg['results dir list']:\n",
    "    cfg['results dir'] = f\"{subdir}/\"\n",
    "    cfg['results path'] = cfg['results path trunk 1'] + \\\n",
    "                          cfg['results path trunk 2'] + \\\n",
    "                          cfg['results dir']\n",
    "    with open(cfg['results path'] + 'cfg.json') as json_file:\n",
    "        cfg_algo = json.load(json_file)\n",
    "        cfg_list.append(cfg_algo)\n",
    "    with open(cfg['results path'] + 'res.pickle', 'rb') as handle:\n",
    "        res_algo = pickle.load(handle)\n",
    "    # res = res.concat(res_algo)  # deprecated method\n",
    "    res = pd.concat( [res, res_algo], axis=0)\n",
    "\n",
    "print(f\"res data frame has shape: {res.shape}.\")\n",
    "print(f\"res data frame has algos: {res['algo'].unique().tolist()}.\")"
   ]
  },
  {
   "cell_type": "markdown",
   "id": "9457adab-bce4-4a15-9983-bdb2e016a5f9",
   "metadata": {
    "tags": []
   },
   "source": [
    "# Compute Quality Criteria"
   ]
  },
  {
   "cell_type": "code",
   "execution_count": 5,
   "id": "d50dc74f-8abe-4ecb-b38a-e08d0fb16cf9",
   "metadata": {},
   "outputs": [],
   "source": [
    "# reload local functions in lib directory:\n",
    "importlib.reload(lib)\n",
    "importlib.reload(lib.tools)\n",
    "\n",
    "dsp = lib.tools.dsp_default()"
   ]
  },
  {
   "cell_type": "code",
   "execution_count": 6,
   "id": "c3631ec1-271b-4b01-a3ac-f96b02036b5c",
   "metadata": {},
   "outputs": [
    {
     "data": {
      "text/html": [
       "<div>\n",
       "<style scoped>\n",
       "    .dataframe tbody tr th:only-of-type {\n",
       "        vertical-align: middle;\n",
       "    }\n",
       "\n",
       "    .dataframe tbody tr th {\n",
       "        vertical-align: top;\n",
       "    }\n",
       "\n",
       "    .dataframe thead th {\n",
       "        text-align: right;\n",
       "    }\n",
       "</style>\n",
       "<table border=\"1\" class=\"dataframe\">\n",
       "  <thead>\n",
       "    <tr style=\"text-align: right;\">\n",
       "      <th></th>\n",
       "      <th>periods</th>\n",
       "      <th>households</th>\n",
       "      <th>day</th>\n",
       "      <th>sample</th>\n",
       "      <th>target</th>\n",
       "    </tr>\n",
       "  </thead>\n",
       "  <tbody>\n",
       "    <tr>\n",
       "      <th>0</th>\n",
       "      <td>4.0</td>\n",
       "      <td>2.0</td>\n",
       "      <td>2016-01-15</td>\n",
       "      <td>0.0</td>\n",
       "      <td>0.000000</td>\n",
       "    </tr>\n",
       "    <tr>\n",
       "      <th>1</th>\n",
       "      <td>4.0</td>\n",
       "      <td>2.0</td>\n",
       "      <td>2016-01-15</td>\n",
       "      <td>1.0</td>\n",
       "      <td>0.000000</td>\n",
       "    </tr>\n",
       "    <tr>\n",
       "      <th>2</th>\n",
       "      <td>4.0</td>\n",
       "      <td>2.0</td>\n",
       "      <td>2016-01-15</td>\n",
       "      <td>2.0</td>\n",
       "      <td>0.000000</td>\n",
       "    </tr>\n",
       "    <tr>\n",
       "      <th>3</th>\n",
       "      <td>4.0</td>\n",
       "      <td>2.0</td>\n",
       "      <td>2016-01-15</td>\n",
       "      <td>3.0</td>\n",
       "      <td>39.331503</td>\n",
       "    </tr>\n",
       "    <tr>\n",
       "      <th>4</th>\n",
       "      <td>4.0</td>\n",
       "      <td>2.0</td>\n",
       "      <td>2016-01-15</td>\n",
       "      <td>4.0</td>\n",
       "      <td>17.382966</td>\n",
       "    </tr>\n",
       "    <tr>\n",
       "      <th>...</th>\n",
       "      <td>...</td>\n",
       "      <td>...</td>\n",
       "      <td>...</td>\n",
       "      <td>...</td>\n",
       "      <td>...</td>\n",
       "    </tr>\n",
       "    <tr>\n",
       "      <th>5035</th>\n",
       "      <td>24.0</td>\n",
       "      <td>50.0</td>\n",
       "      <td>2016-12-15</td>\n",
       "      <td>5.0</td>\n",
       "      <td>163.446367</td>\n",
       "    </tr>\n",
       "    <tr>\n",
       "      <th>5036</th>\n",
       "      <td>24.0</td>\n",
       "      <td>50.0</td>\n",
       "      <td>2016-12-15</td>\n",
       "      <td>6.0</td>\n",
       "      <td>202.018984</td>\n",
       "    </tr>\n",
       "    <tr>\n",
       "      <th>5037</th>\n",
       "      <td>24.0</td>\n",
       "      <td>50.0</td>\n",
       "      <td>2016-12-15</td>\n",
       "      <td>7.0</td>\n",
       "      <td>189.751528</td>\n",
       "    </tr>\n",
       "    <tr>\n",
       "      <th>5038</th>\n",
       "      <td>24.0</td>\n",
       "      <td>50.0</td>\n",
       "      <td>2016-12-15</td>\n",
       "      <td>8.0</td>\n",
       "      <td>177.083026</td>\n",
       "    </tr>\n",
       "    <tr>\n",
       "      <th>5039</th>\n",
       "      <td>24.0</td>\n",
       "      <td>50.0</td>\n",
       "      <td>2016-12-15</td>\n",
       "      <td>9.0</td>\n",
       "      <td>204.783473</td>\n",
       "    </tr>\n",
       "  </tbody>\n",
       "</table>\n",
       "<p>5040 rows × 5 columns</p>\n",
       "</div>"
      ],
      "text/plain": [
       "      periods  households         day  sample      target\n",
       "0         4.0         2.0  2016-01-15     0.0    0.000000\n",
       "1         4.0         2.0  2016-01-15     1.0    0.000000\n",
       "2         4.0         2.0  2016-01-15     2.0    0.000000\n",
       "3         4.0         2.0  2016-01-15     3.0   39.331503\n",
       "4         4.0         2.0  2016-01-15     4.0   17.382966\n",
       "...       ...         ...         ...     ...         ...\n",
       "5035     24.0        50.0  2016-12-15     5.0  163.446367\n",
       "5036     24.0        50.0  2016-12-15     6.0  202.018984\n",
       "5037     24.0        50.0  2016-12-15     7.0  189.751528\n",
       "5038     24.0        50.0  2016-12-15     8.0  177.083026\n",
       "5039     24.0        50.0  2016-12-15     9.0  204.783473\n",
       "\n",
       "[5040 rows x 5 columns]"
      ]
     },
     "execution_count": 6,
     "metadata": {},
     "output_type": "execute_result"
    }
   ],
   "source": [
    "importlib.reload(lib.tools)\n",
    "\n",
    "# comp = {'algo':'Barot wo. pc.', 'quantity':'cost_value', 'view':'raw'}\n",
    "# comp = {'algo':'Barot wo. pc.', 'quantity':'cost_value', 'view':'qual. crit.'}\n",
    "comp = {'algo':'Barot wo. pc.', 'quantity':'cost_im_en', 'view':'raw'}\n",
    "# comp = {'algo':'Barot wo. pc.', 'quantity':'algo_time', 'view':'raw'}\n",
    "# comp = {'algo':'Homothet Stage 0',       'quantity':'cost_value', 'view':'qual. crit.'}\n",
    "# comp = {'algo':'Homothet Stage 0',       'quantity':'peak_value', 'view':'qual. crit.'}\n",
    "# comp = {'algo':'Zhen Ellipsoid Inner',       'quantity':'peak_value', 'view':'qual. crit.'}\n",
    "# comp = {'algo':'Inner Battery Homothet', 'quantity':'cost_value', 'view':'qual. crit.'}\n",
    "# comp = {'algo':'Homothet Projection',    'quantity':'cost_value', 'view':'qual. crit.'}\n",
    "# comp = {'algo':'Klaus inner span',    'quantity':'cost_value', 'view':'qual. crit.'}\n",
    "# comp = {'algo':'Simple Inner',    'quantity':'cost_value', 'view':'qual. crit.'}\n",
    "\n",
    "df = lib.tools.target_df(dsp, comp, res)   # sorted by dsp['c4c']\n",
    "\n",
    "# -------- checks:\n",
    "# df['target'].describe()\n",
    "# df['target'].hist();\n",
    "# res.to_excel('/home/kr/scratch/res.xlsx')\n",
    "df"
   ]
  },
  {
   "cell_type": "markdown",
   "id": "82cfefa0-6664-4977-9213-9358538f8711",
   "metadata": {
    "tags": []
   },
   "source": [
    "# Figures"
   ]
  },
  {
   "cell_type": "code",
   "execution_count": 18,
   "id": "0d7cf6c8-1dde-482a-b373-f6f7078962bb",
   "metadata": {},
   "outputs": [],
   "source": [
    "# reload local functions in lib directory:\n",
    "importlib.reload(lib)\n",
    "importlib.reload(lib.tools)\n",
    "\n",
    "dsp = lib.tools.dsp_default()"
   ]
  },
  {
   "cell_type": "markdown",
   "id": "9f24c633-b3b2-4252-8c6c-31f54e1f6746",
   "metadata": {},
   "source": [
    "## Analyse One Algorithm "
   ]
  },
  {
   "cell_type": "code",
   "execution_count": 32,
   "id": "46055360-1194-4201-8d8b-7a3d5021b87d",
   "metadata": {},
   "outputs": [],
   "source": [
    "sel = {}\n",
    "\n",
    "# sel['algo'] = 'no flexibility'\n",
    "# sel['algo'] = 'exact'\n",
    "# ---------------------------------------------\n",
    "# sel['algo'] = 'Barot wo. pc.'               # outer\n",
    "sel['algo'] = 'Barot w. pc.'                # outer\n",
    "\n",
    "# sel['algo'] = 'Outer Battery Homothet'      # outer\n",
    "# sel['algo'] = 'Homothet Stage 0'            # inner\n",
    "# sel['algo'] = 'Inner Battery Homothet'      # inner\n",
    "sel['algo'] = 'Homothet Projection'         # inner\n",
    "\n",
    "# sel['algo'] = 'Union of Homothets Stage 1'  # inner\n",
    "# sel['algo'] = 'Zonotopes'                   # inner\n",
    "# sel['algo'] = 'Zhen Ellipsoid Inner'        # inner\n",
    "# sel['algo'] = 'Barot Ellipsoid Inner'       # inner\n",
    "# ---------------------------------------------\n",
    "# sel['algo'] = 'Klaus inner span' # inner\n",
    "# sel['algo'] = 'Simple Inner' # inner\n",
    "\n",
    "if dsp['algo type'][sel['algo']] == 'inner':\n",
    "    sel['quantities'] = {'cost_value':'qual. crit.',\n",
    "                         # 'peak_value':'qual. crit.',\n",
    "                         'algo_time' :'raw',\n",
    "                         # 'cost_time' :'raw'\n",
    "                        }\n",
    "elif dsp['algo type'][sel['algo']] == 'outer':\n",
    "    sel['quantities'] = {'cost_im_en':'qual. crit.',\n",
    "                         # 'peak_im_en':'qual. crit.',\n",
    "                         'algo_time' :'raw',\n",
    "                         # 'cost_time' :'raw'\n",
    "                        }\n",
    "else:\n",
    "    sel = {}\n",
    "\n",
    "sel['periods list'] = cfg_list[0]['periods list']\n",
    "# sel['periods list'] = [2, 10]\n",
    "\n",
    "sel['households list'] = cfg_list[0]['households list']\n",
    "# sel['households list'] = [5, 20]"
   ]
  },
  {
   "cell_type": "code",
   "execution_count": 33,
   "id": "a81e4ede-386b-46fe-ad03-7b2f8603a1a1",
   "metadata": {},
   "outputs": [
    {
     "data": {
      "image/png": "[encoded data removed]",
      "text/plain": [
       "<Figure size 864x432 with 2 Axes>"
      ]
     },
     "metadata": {
      "needs_background": "light"
     },
     "output_type": "display_data"
    }
   ],
   "source": [
    "# figure structure:\n",
    "if len(sel['quantities']) > 1:\n",
    "    # nrows = int(np.ceil(len(sel['quantities'])/2))\n",
    "    # fig, ax_ = plt.subplots(nrows=nrows, ncols=2, figsize=(14, 6*nrows))\n",
    "    \n",
    "    ncols = len(sel['quantities'])\n",
    "    fig, ax_ = plt.subplots(nrows=1, ncols=ncols, figsize=(6*ncols, 6))\n",
    "    \n",
    "else:\n",
    "    fig, ax = plt.subplots(nrows=1, ncols=1, figsize=(6,6))\n",
    "    ax_ = [ax]\n",
    "\n",
    "# subplots:\n",
    "counter = 0\n",
    "for quantity, view in sel['quantities'].items():\n",
    "    comp = {'algo':sel['algo'], 'quantity':quantity, 'view':view }\n",
    "    df = lib.tools.target_df(dsp, comp, res)\n",
    "    \n",
    "    if df is not None:\n",
    "        df.rename(columns={'target':quantity}, inplace=True)\n",
    "\n",
    "        # slice to selection:\n",
    "        ind = df['periods'].isin(sel['periods list']) & df['households'].isin(sel['households list'])\n",
    "        df = df.loc[ind,]\n",
    "\n",
    "        # cat periods and households values to integer:\n",
    "        df['periods'] = df['periods'].astype(int)\n",
    "        df['households'] = df['households'].astype(int)\n",
    "\n",
    "        # boxplots:\n",
    "        ax = ax_.flatten()[counter]\n",
    "        sns.boxplot(ax=ax, x='periods', hue=\"households\", y=quantity, data=df, \n",
    "                    showmeans=False, showfliers=False) # showfliers=outliers\n",
    "        # sns.violinplot(ax=ax, x='periods', hue=\"households\", y=quantity, data=df)\n",
    "        ax.set_ylabel( dsp['quantity label'][quantity][view] )\n",
    "        ax.grid(True)\n",
    "        # ax.set_title(f\"algo = {sel['algo']}, type = {dsp['algo type'][sel['algo']]}\")\n",
    "        ax.set_title(f\"algorithm: {sel['algo']}\")\n",
    "        \n",
    "    counter += 1\n",
    "plt.tight_layout()\n",
    "\n",
    "# save figure:\n",
    "plt.savefig(cfg['figures path'] + sel['algo'] + \".pdf\")"
   ]
  },
  {
   "cell_type": "markdown",
   "id": "061265a8-19e2-4e52-8aca-09e08a2e1193",
   "metadata": {},
   "source": [
    "### Scratch"
   ]
  },
  {
   "cell_type": "code",
   "execution_count": 18,
   "id": "3ff7ad64-1d80-4f17-b775-f2e7dea9da24",
   "metadata": {},
   "outputs": [
    {
     "data": {
      "text/plain": [
       "413.26254382542925"
      ]
     },
     "execution_count": 18,
     "metadata": {},
     "output_type": "execute_result"
    },
    {
     "data": {
      "image/png": "[encoded data removed]",
      "text/plain": [
       "<Figure size 432x288 with 1 Axes>"
      ]
     },
     "metadata": {
      "needs_background": "light"
     },
     "output_type": "display_data"
    }
   ],
   "source": [
    "comp = {'algo':'Barot wo. pc.', 'quantity':'cost_im_en', 'view':'qual. crit.' }\n",
    "comp = {'algo':'Homothet Stage 0', 'quantity':'peak_value', 'view':'qual. crit.' }\n",
    "df = lib.tools.target_df(dsp, comp, res)\n",
    "\n",
    "# checks:\n",
    "df['target'].hist(bins=100);\n",
    "df['target'].min()\n",
    "df['target'].max()"
   ]
  },
  {
   "cell_type": "markdown",
   "id": "ead347f9-eb4a-46d0-906a-4abd6613ee98",
   "metadata": {},
   "source": [
    "## Compare Some Algorithms over Settings"
   ]
  },
  {
   "cell_type": "code",
   "execution_count": 9,
   "id": "8d28509a-a797-4ca7-ac5e-ec8038c1fda6",
   "metadata": {},
   "outputs": [],
   "source": [
    "sel = {}\n",
    "\n",
    "if 0: # outer\n",
    "    sel['algos']    = ['Barot wo. pc.', 'Barot w. pc.', 'Outer Battery Homothet'] \n",
    "    \n",
    "    sel['quantity'] = 'cost_im_en'\n",
    "    sel['view']     = 'qual. crit.'\n",
    "    \n",
    "    sel['quantity'] = 'algo_time'\n",
    "    sel['view']     = 'raw'\n",
    "    \n",
    "    sel['serial param'] = 'periods'\n",
    "    sel['fix param'] = 'households'\n",
    "    sel['fix value'] = 20\n",
    "    \n",
    "    sel['aggfunc']   = np.median\n",
    "    \n",
    "else: # inner\n",
    "    sel['algos']    = ['Homothet Stage 0', 'Inner Battery Homothet', 'Homothet Projection',\n",
    "                       # 'Zonotopes',\n",
    "                       'Union of Homothets Stage 1', 'Zhen Ellipsoid Inner', 'Barot Ellipsoid Inner']\n",
    "    \n",
    "    sel['quantity'] = 'cost_value'\n",
    "    sel['view']     = 'qual. crit.'\n",
    "    \n",
    "    sel['quantity'] = 'algo_time'\n",
    "    sel['view']     = 'raw'\n",
    "    \n",
    "    sel['serial param'] = 'periods'\n",
    "    sel['fix param'] = 'households'\n",
    "    sel['fix value'] = 20\n",
    "    \n",
    "    sel['serial param'] = 'households'\n",
    "    sel['fix param'] =  'periods'\n",
    "    sel['fix value'] = 12\n",
    "    \n",
    "    sel['aggfunc']   = np.median\n",
    "    \n",
    "counter = 0\n",
    "comp = sel\n",
    "for algo in sel['algos']:\n",
    "    comp['algo'] = algo\n",
    "    if counter == 0:\n",
    "        df = lib.tools.target_df(dsp, comp, res)\n",
    "        df\n",
    "        df.rename(columns={\"target\": algo}, inplace=True)\n",
    "    else:\n",
    "        df_add = lib.tools.target_df(dsp, comp, res)\n",
    "        df[algo] = df_add['target']\n",
    "    counter += 1  \n",
    "\n",
    "ind = df[sel['fix param']] == sel['fix value']\n",
    "cols = [sel['serial param']] + sel['algos']\n",
    "rf = df.loc[ind, cols].groupby(by=[sel['serial param']]).aggregate(sel['aggfunc'])\n",
    "rf.index = rf.index.map(int)"
   ]
  },
  {
   "cell_type": "code",
   "execution_count": 29,
   "id": "12efbb1b-d1ec-4e1c-93a2-a343d5440321",
   "metadata": {},
   "outputs": [
    {
     "data": {
      "image/png": "[encoded data removed]",
      "text/plain": [
       "<Figure size 648x360 with 1 Axes>"
      ]
     },
     "metadata": {
      "needs_background": "light"
     },
     "output_type": "display_data"
    }
   ],
   "source": [
    "ylabel = dsp['quantity label'][sel['quantity']][sel['view']]\n",
    "title  = f\"{sel['fix param']} = {sel['fix value']}, aggregation={sel['aggfunc'].__name__}\"\n",
    "rf.plot(figsize=(9,5), grid=True, ylabel=ylabel, title=title, \n",
    "        style='o-', xticks=rf.index)\n",
    "plt.tight_layout()\n",
    "plt.legend(bbox_to_anchor=(1.40, 1));\n",
    "\n",
    "\n",
    "plt.savefig(cfg['figures path'] + \"algo_comparison\" + \".pdf\")"
   ]
  },
  {
   "cell_type": "markdown",
   "id": "38e0f581-d224-4511-90b1-69172f7605c6",
   "metadata": {},
   "source": [
    "### Scratch"
   ]
  },
  {
   "cell_type": "code",
   "execution_count": 21,
   "id": "910bddb6-d4e0-401f-bbbf-dc5af57559d5",
   "metadata": {},
   "outputs": [
    {
     "data": {
      "text/plain": [
       "-4.263256414560601e-14"
      ]
     },
     "execution_count": 21,
     "metadata": {},
     "output_type": "execute_result"
    },
    {
     "data": {
      "image/png": "[encoded data removed]",
      "text/plain": [
       "<Figure size 432x288 with 1 Axes>"
      ]
     },
     "metadata": {
      "needs_background": "light"
     },
     "output_type": "display_data"
    }
   ],
   "source": [
    "# comp = {'algo':'no flexibility', 'quantity':'peak_value', 'view':'raw' }\n",
    "# comp = {'algo':'no flexibility', 'quantity':'cost_value', 'view':'raw' }\n",
    "# comp = {'algo':'Homothet Stage 0', 'quantity':'peak_value', 'view':'raw' }\n",
    "comp = {'algo':'Zonotopes', 'quantity':'peak_value', 'view':'raw' }\n",
    "# comp = {'algo':'Zonotopes', 'quantity':'cost_value', 'view':'raw' }\n",
    "df1 = lib.tools.target_df(dsp, comp, res)\n",
    "\n",
    "comp = {'algo':'exact',     'quantity':'peak_value', 'view':'raw' }\n",
    "# comp = {'algo':'exact',     'quantity':'cost_value', 'view':'raw' }\n",
    "df2 = lib.tools.target_df(dsp, comp, res)\n",
    "\n",
    "(df1['target'] - df2['target']).hist(bins=100);\n",
    "\n",
    "(df1['target'] - df2['target']).max()\n",
    "(df1['target'] - df2['target']).min()"
   ]
  },
  {
   "cell_type": "markdown",
   "id": "6c882397-c5e1-4140-9f2b-9769770b831a",
   "metadata": {},
   "source": [
    "## Compare All Algorithms for Fixed Setting"
   ]
  },
  {
   "cell_type": "code",
   "execution_count": 4,
   "id": "12d3014c-6b81-477b-b7fa-1a98f79a2a76",
   "metadata": {},
   "outputs": [],
   "source": [
    "# reload local functions in lib directory:\n",
    "importlib.reload(lib)\n",
    "importlib.reload(lib.tools)\n",
    "\n",
    "dsp = lib.tools.dsp_default()"
   ]
  },
  {
   "cell_type": "code",
   "execution_count": 5,
   "id": "2ae09c43-0134-4632-b518-90919fab1751",
   "metadata": {},
   "outputs": [
    {
     "ename": "NameError",
     "evalue": "name 'res' is not defined",
     "output_type": "error",
     "traceback": [
      "\u001b[0;31m---------------------------------------------------------------------------\u001b[0m",
      "\u001b[0;31mNameError\u001b[0m                                 Traceback (most recent call last)",
      "Input \u001b[0;32mIn [5]\u001b[0m, in \u001b[0;36m<module>\u001b[0;34m\u001b[0m\n\u001b[1;32m     11\u001b[0m \u001b[38;5;28;01melse\u001b[39;00m: \u001b[38;5;66;03m# outer:\u001b[39;00m\n\u001b[1;32m     12\u001b[0m     stg \u001b[38;5;241m=\u001b[39m {\u001b[38;5;124m'\u001b[39m\u001b[38;5;124mperiods\u001b[39m\u001b[38;5;124m'\u001b[39m   : \u001b[38;5;241m16\u001b[39m, \n\u001b[1;32m     13\u001b[0m            \u001b[38;5;124m'\u001b[39m\u001b[38;5;124mhouseholds\u001b[39m\u001b[38;5;124m'\u001b[39m: \u001b[38;5;241m20\u001b[39m,\n\u001b[1;32m     14\u001b[0m            \u001b[38;5;124m'\u001b[39m\u001b[38;5;124malgo_type\u001b[39m\u001b[38;5;124m'\u001b[39m : \u001b[38;5;124m'\u001b[39m\u001b[38;5;124mouter\u001b[39m\u001b[38;5;124m'\u001b[39m,\n\u001b[1;32m     15\u001b[0m            \u001b[38;5;124m'\u001b[39m\u001b[38;5;124mquantity\u001b[39m\u001b[38;5;124m'\u001b[39m  : \u001b[38;5;124m'\u001b[39m\u001b[38;5;124mcost_im_en\u001b[39m\u001b[38;5;124m'\u001b[39m\n\u001b[1;32m     16\u001b[0m            \u001b[38;5;66;03m# 'quantity' : 'peak_im_en'\u001b[39;00m\n\u001b[1;32m     17\u001b[0m           }\n\u001b[0;32m---> 19\u001b[0m pf \u001b[38;5;241m=\u001b[39m lib\u001b[38;5;241m.\u001b[39mtools\u001b[38;5;241m.\u001b[39mpareto(stg, \u001b[43mres\u001b[49m)\n\u001b[1;32m     20\u001b[0m pf\n",
      "\u001b[0;31mNameError\u001b[0m: name 'res' is not defined"
     ]
    }
   ],
   "source": [
    "# setting: fix N-M-setting and choose algo type:\n",
    "stg = {}\n",
    "\n",
    "if 0: # inner:\n",
    "    stg = {'periods'   : 12, \n",
    "           'households': 10,\n",
    "           'algo_type' : 'inner',\n",
    "           'quantity'  : 'cost_value'  # qual crit are used\n",
    "           # 'quantity'  : 'peak_value'\n",
    "          }\n",
    "else: # outer:\n",
    "    stg = {'periods'   : 16, \n",
    "           'households': 20,\n",
    "           'algo_type' : 'outer',\n",
    "           'quantity'  : 'cost_im_en'\n",
    "           # 'quantity' : 'peak_im_en'\n",
    "          }\n",
    "\n",
    "pf = lib.tools.pareto(stg, res)\n",
    "pf"
   ]
  },
  {
   "cell_type": "code",
   "execution_count": 24,
   "id": "b197af0a-ad77-497d-a53b-ac0f7408566c",
   "metadata": {},
   "outputs": [
    {
     "name": "stdout",
     "output_type": "stream",
     "text": [
      "\\begin{tabular}{lrr}\n",
      " & unused (costs) (%) & algo time (seconds) \\\\\n",
      " &  &  \\\\\n",
      "Homothet Projection & 4.12 & 3.62 \\\\\n",
      "Union of Homothets Stage 1 & 6.85 & 1.38 \\\\\n",
      "Zonotopes l1 & 7.73 & 0.74 \\\\\n",
      "Inner Battery Homothet & 8.07 & 0.76 \\\\\n",
      "Homothet Stage 0 & 8.77 & 0.08 \\\\\n",
      "Zonotopes l2 & 8.97 & 0.73 \\\\\n",
      "Zonotopes & 10.89 & 2.48 \\\\\n",
      "Zhen Ellipsoid Inner & 27.75 & 1.10 \\\\\n",
      "Barot Ellipsoid Inner & 29.00 & 75.39 \\\\\n",
      "\\end{tabular}\n",
      "\n"
     ]
    }
   ],
   "source": [
    "s = pf.style.format(precision=2)\n",
    "print(s.to_latex())"
   ]
  },
  {
   "cell_type": "markdown",
   "id": "e3827fa7-27d8-4402-b23d-4b4aa6554221",
   "metadata": {
    "tags": []
   },
   "source": [
    "# Tables"
   ]
  },
  {
   "cell_type": "markdown",
   "id": "1e13c6ae-624a-4320-afe6-c19a6587c4e0",
   "metadata": {},
   "source": [
    "## One Algorithm"
   ]
  },
  {
   "cell_type": "code",
   "execution_count": 73,
   "id": "8ac02bbe-4f44-4c7b-8ee8-74397fbe01f5",
   "metadata": {},
   "outputs": [
    {
     "data": {
      "text/html": [
       "<div>\n",
       "<style scoped>\n",
       "    .dataframe tbody tr th:only-of-type {\n",
       "        vertical-align: middle;\n",
       "    }\n",
       "\n",
       "    .dataframe tbody tr th {\n",
       "        vertical-align: top;\n",
       "    }\n",
       "\n",
       "    .dataframe thead th {\n",
       "        text-align: right;\n",
       "    }\n",
       "</style>\n",
       "<table border=\"1\" class=\"dataframe\">\n",
       "  <thead>\n",
       "    <tr style=\"text-align: right;\">\n",
       "      <th>periods</th>\n",
       "      <th>4</th>\n",
       "      <th>8</th>\n",
       "      <th>12</th>\n",
       "      <th>16</th>\n",
       "      <th>20</th>\n",
       "      <th>24</th>\n",
       "    </tr>\n",
       "    <tr>\n",
       "      <th>households</th>\n",
       "      <th></th>\n",
       "      <th></th>\n",
       "      <th></th>\n",
       "      <th></th>\n",
       "      <th></th>\n",
       "      <th></th>\n",
       "    </tr>\n",
       "  </thead>\n",
       "  <tbody>\n",
       "    <tr>\n",
       "      <th>2</th>\n",
       "      <td>0.0</td>\n",
       "      <td>0.0</td>\n",
       "      <td>0.00</td>\n",
       "      <td>0.00</td>\n",
       "      <td>0.00</td>\n",
       "      <td>1.30</td>\n",
       "    </tr>\n",
       "    <tr>\n",
       "      <th>6</th>\n",
       "      <td>0.0</td>\n",
       "      <td>0.0</td>\n",
       "      <td>0.00</td>\n",
       "      <td>4.17</td>\n",
       "      <td>10.75</td>\n",
       "      <td>11.20</td>\n",
       "    </tr>\n",
       "    <tr>\n",
       "      <th>10</th>\n",
       "      <td>0.0</td>\n",
       "      <td>0.0</td>\n",
       "      <td>0.00</td>\n",
       "      <td>14.96</td>\n",
       "      <td>21.46</td>\n",
       "      <td>18.64</td>\n",
       "    </tr>\n",
       "    <tr>\n",
       "      <th>20</th>\n",
       "      <td>0.0</td>\n",
       "      <td>0.0</td>\n",
       "      <td>5.81</td>\n",
       "      <td>34.77</td>\n",
       "      <td>36.06</td>\n",
       "      <td>39.78</td>\n",
       "    </tr>\n",
       "    <tr>\n",
       "      <th>30</th>\n",
       "      <td>0.0</td>\n",
       "      <td>0.0</td>\n",
       "      <td>11.16</td>\n",
       "      <td>48.05</td>\n",
       "      <td>50.52</td>\n",
       "      <td>62.78</td>\n",
       "    </tr>\n",
       "    <tr>\n",
       "      <th>40</th>\n",
       "      <td>0.0</td>\n",
       "      <td>0.0</td>\n",
       "      <td>19.93</td>\n",
       "      <td>79.21</td>\n",
       "      <td>70.50</td>\n",
       "      <td>83.01</td>\n",
       "    </tr>\n",
       "    <tr>\n",
       "      <th>50</th>\n",
       "      <td>0.0</td>\n",
       "      <td>0.0</td>\n",
       "      <td>26.68</td>\n",
       "      <td>99.57</td>\n",
       "      <td>88.32</td>\n",
       "      <td>103.47</td>\n",
       "    </tr>\n",
       "  </tbody>\n",
       "</table>\n",
       "</div>"
      ],
      "text/plain": [
       "periods      4    8      12     16     20      24\n",
       "households                                       \n",
       "2           0.0  0.0   0.00   0.00   0.00    1.30\n",
       "6           0.0  0.0   0.00   4.17  10.75   11.20\n",
       "10          0.0  0.0   0.00  14.96  21.46   18.64\n",
       "20          0.0  0.0   5.81  34.77  36.06   39.78\n",
       "30          0.0  0.0  11.16  48.05  50.52   62.78\n",
       "40          0.0  0.0  19.93  79.21  70.50   83.01\n",
       "50          0.0  0.0  26.68  99.57  88.32  103.47"
      ]
     },
     "execution_count": 73,
     "metadata": {},
     "output_type": "execute_result"
    }
   ],
   "source": [
    "sel = {}\n",
    "\n",
    "# sel['algo'] = 'no flexibility'\n",
    "# sel['algo'] = 'exact'\n",
    "# ---------------------------------------------\n",
    "# sel['algo'] = 'Barot wo. pc.'               # outer\n",
    "# sel['algo'] = 'Barot w. pc.'                # outer\n",
    "# sel['algo'] = 'Outer Battery Homothet'      # outer\n",
    "\n",
    "# sel['algo'] = 'Homothet Stage 0'            # inner\n",
    "# sel['algo'] = 'Inner Battery Homothet'      # inner\n",
    "# sel['algo'] = 'Homothet Projection'         # inner\n",
    "# sel['algo'] = 'Union of Homothets Stage 1'  # inner\n",
    "# sel['algo'] = 'Zonotopes'                   # inner\n",
    "# sel['algo'] = 'Zhen Ellipsoid Inner'        # inner\n",
    "# sel['algo'] = 'Barot Ellipsoid Inner'       # inner\n",
    "# ---------------------------------------------\n",
    "\n",
    "sel['aggfunc']   = np.median\n",
    "\n",
    "if 1: # outer\n",
    "    sel['algo'] = 'Barot w. pc.'\n",
    "    \n",
    "    sel['quantity'] = 'cost_im_en'\n",
    "    # sel['quantity'] = 'peak_im_en'\n",
    "    \n",
    "    sel['view']     = 'qual. crit.'\n",
    "        \n",
    "elif 1: # inner\n",
    "    \n",
    "    sel['algo'] = 'Homothet Projection'\n",
    "    \n",
    "    sel['quantity'] = 'cost_value'\n",
    "    # sel['quantity'] = 'peak_value'\n",
    "    \n",
    "    sel['view']     = 'qual. crit.'\n",
    "    \n",
    "else:\n",
    "    sel['quantity'] = 'algo_time'\n",
    "    sel['view']     = 'raw'\n",
    "    \n",
    "\n",
    "df = lib.tools.target_df(dsp, sel, res)\n",
    "tf = pd.pivot_table(data=df, values='target', index='households', columns='periods', \n",
    "                    aggfunc=sel['aggfunc'])\n",
    "tf.index = tf.index.map(int)\n",
    "tf.columns = tf.columns.map(int)\n",
    "tf = tf.round(2)  # rounding!!!\n",
    "tf"
   ]
  },
  {
   "cell_type": "code",
   "execution_count": 37,
   "id": "f6200ef2-5e61-479a-b546-bd9bfdbbb85e",
   "metadata": {},
   "outputs": [
    {
     "name": "stdout",
     "output_type": "stream",
     "text": [
      "\\begin{tabular}{lrrrrrr}\n",
      "periods & 4 & 8 & 12 & 16 & 20 & 24 \\\\\n",
      "households &  &  &  &  &  &  \\\\\n",
      "2 & 0.00 & 0.00 & 0.00 & 0.00 & 0.00 & 1.30 \\\\\n",
      "6 & 0.00 & 0.00 & 0.00 & 4.17 & 10.75 & 11.20 \\\\\n",
      "10 & 0.00 & 0.00 & 0.00 & 14.96 & 21.46 & 18.64 \\\\\n",
      "20 & 0.00 & 0.00 & 5.81 & 34.77 & 36.06 & 39.78 \\\\\n",
      "30 & 0.00 & 0.00 & 11.16 & 48.05 & 50.52 & 62.78 \\\\\n",
      "40 & 0.00 & 0.00 & 19.93 & 79.21 & 70.50 & 83.01 \\\\\n",
      "50 & 0.00 & 0.00 & 26.68 & 99.57 & 88.32 & 103.47 \\\\\n",
      "\\end{tabular}\n",
      "\n"
     ]
    }
   ],
   "source": [
    "# export table:\n",
    "# print(tf.style.to_latex())\n",
    "# tf.to_latex('mytable.tex')\n",
    "\n",
    "s = tf.style.format(precision=2)\n",
    "print(s.to_latex())"
   ]
  },
  {
   "cell_type": "code",
   "execution_count": 38,
   "id": "f2a8b720-982a-4c26-a187-d6265177d5b8",
   "metadata": {},
   "outputs": [],
   "source": [
    "s.to_latex('~/scratch/mytable.tex')"
   ]
  },
  {
   "cell_type": "code",
   "execution_count": null,
   "id": "0ad6419d-f5ee-477a-a282-0586b5b228de",
   "metadata": {},
   "outputs": [],
   "source": []
  }
 ],
 "metadata": {
  "kernelspec": {
   "display_name": "Python 3 (ipykernel)",
   "language": "python",
   "name": "python3"
  },
  "language_info": {
   "codemirror_mode": {
    "name": "ipython",
    "version": 3
   },
   "file_extension": ".py",
   "mimetype": "text/x-python",
   "name": "python",
   "nbconvert_exporter": "python",
   "pygments_lexer": "ipython3",
   "version": "3.10.2"
  },
  "toc-autonumbering": true
 },
 "nbformat": 4,
 "nbformat_minor": 5
}
